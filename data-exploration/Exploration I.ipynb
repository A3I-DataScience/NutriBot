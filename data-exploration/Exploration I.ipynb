{
 "cells": [
  {
   "cell_type": "code",
   "execution_count": 1,
   "metadata": {},
   "outputs": [
    {
     "name": "stdout",
     "output_type": "stream",
     "text": [
      "Requirement already satisfied: pandas in /Users/antoine/Developer/Perso/venv/lib/python3.12/site-packages (from -r requirements.txt (line 1)) (2.2.3)\n",
      "Requirement already satisfied: numpy in /Users/antoine/Developer/Perso/venv/lib/python3.12/site-packages (from -r requirements.txt (line 2)) (2.1.2)\n",
      "Requirement already satisfied: python-dateutil>=2.8.2 in /Users/antoine/Developer/Perso/venv/lib/python3.12/site-packages (from pandas->-r requirements.txt (line 1)) (2.9.0.post0)\n",
      "Requirement already satisfied: pytz>=2020.1 in /Users/antoine/Developer/Perso/venv/lib/python3.12/site-packages (from pandas->-r requirements.txt (line 1)) (2024.2)\n",
      "Requirement already satisfied: tzdata>=2022.7 in /Users/antoine/Developer/Perso/venv/lib/python3.12/site-packages (from pandas->-r requirements.txt (line 1)) (2024.2)\n",
      "Requirement already satisfied: six>=1.5 in /Users/antoine/Developer/Perso/venv/lib/python3.12/site-packages (from python-dateutil>=2.8.2->pandas->-r requirements.txt (line 1)) (1.16.0)\n"
     ]
    }
   ],
   "source": [
    "! pip install -r requirements.txt"
   ]
  },
  {
   "cell_type": "code",
   "execution_count": 1,
   "metadata": {},
   "outputs": [],
   "source": [
    "import pandas as pd\n",
    "import numpy as np"
   ]
  },
  {
   "cell_type": "code",
   "execution_count": null,
   "metadata": {},
   "outputs": [],
   "source": []
  },
  {
   "cell_type": "code",
   "execution_count": null,
   "metadata": {},
   "outputs": [],
   "source": []
  },
  {
   "cell_type": "code",
   "execution_count": null,
   "metadata": {},
   "outputs": [],
   "source": []
  },
  {
   "cell_type": "code",
   "execution_count": null,
   "metadata": {},
   "outputs": [],
   "source": []
  },
  {
   "cell_type": "code",
   "execution_count": 14,
   "metadata": {},
   "outputs": [
    {
     "name": "stdout",
     "output_type": "stream",
     "text": [
      "                                                 title  \\\n",
      "0                                  No-Bake Nut Cookies   \n",
      "1                                Jewell Ball'S Chicken   \n",
      "2                                          Creamy Corn   \n",
      "3                                        Chicken Funny   \n",
      "4                                 Reeses Cups(Candy)     \n",
      "...                                                ...   \n",
      "2231137                            Sunny's Fake Crepes   \n",
      "2231138                                     Devil Eggs   \n",
      "2231139  Extremely Easy and Quick - Namul Daikon Salad   \n",
      "2231140     Pan-Roasted Pork Chops With Apple Fritters   \n",
      "2231141                 Polpette in Spicy Tomato Sauce   \n",
      "\n",
      "                                               ingredients  \n",
      "0        [\"1 c. firmly packed brown sugar\", \"1/2 c. eva...  \n",
      "1        [\"1 small jar chipped beef, cut up\", \"4 boned ...  \n",
      "2        [\"2 (16 oz.) pkg. frozen corn\", \"1 (8 oz.) pkg...  \n",
      "3        [\"1 large whole chicken\", \"2 (10 1/2 oz.) cans...  \n",
      "4        [\"1 c. peanut butter\", \"3/4 c. graham cracker ...  \n",
      "...                                                    ...  \n",
      "2231137  [\"1/2 cup chocolate hazelnut spread (recommend...  \n",
      "2231138  [\"1 dozen eggs\", \"1 paprika\", \"1 salt and pepp...  \n",
      "2231139  [\"150 grams Daikon radish\", \"1 tbsp Sesame oil...  \n",
      "2231140  [\"1 cup apple cider\", \"6 tablespoons sugar\", \"...  \n",
      "2231141  [\"1 pound ground veal\", \"1/2 pound sweet Itali...  \n",
      "\n",
      "[2231142 rows x 2 columns]\n"
     ]
    }
   ],
   "source": [
    "import pandas as pd\n",
    " \n",
    "# read specific columns of csv file using Pandas\n",
    "df = pd.read_csv(\"Data/Recipes/recipes_data.csv\", usecols=['title', 'ingredients'])\n",
    "print(df)"
   ]
  },
  {
   "cell_type": "code",
   "execution_count": 15,
   "metadata": {},
   "outputs": [],
   "source": [
    "df.loc[:,'Sentence'] = ('To cook ' + df.loc[:,'title'] \n",
    "                        + ', you need:' + df.loc[:,'ingredients'].astype(str).str.replace('[','').str.replace(']','').str.replace('\"','').str.replace('[\"',''))"
   ]
  },
  {
   "cell_type": "code",
   "execution_count": 17,
   "metadata": {},
   "outputs": [
    {
     "data": {
      "text/html": [
       "<div>\n",
       "<style scoped>\n",
       "    .dataframe tbody tr th:only-of-type {\n",
       "        vertical-align: middle;\n",
       "    }\n",
       "\n",
       "    .dataframe tbody tr th {\n",
       "        vertical-align: top;\n",
       "    }\n",
       "\n",
       "    .dataframe thead th {\n",
       "        text-align: right;\n",
       "    }\n",
       "</style>\n",
       "<table border=\"1\" class=\"dataframe\">\n",
       "  <thead>\n",
       "    <tr style=\"text-align: right;\">\n",
       "      <th></th>\n",
       "      <th>Recipe Title</th>\n",
       "      <th>Sentence</th>\n",
       "    </tr>\n",
       "  </thead>\n",
       "  <tbody>\n",
       "    <tr>\n",
       "      <th>0</th>\n",
       "      <td>No-Bake Nut Cookies</td>\n",
       "      <td>To cook No-Bake Nut Cookies, you need:1 c. fir...</td>\n",
       "    </tr>\n",
       "    <tr>\n",
       "      <th>1</th>\n",
       "      <td>Jewell Ball'S Chicken</td>\n",
       "      <td>To cook Jewell Ball'S Chicken, you need:1 smal...</td>\n",
       "    </tr>\n",
       "    <tr>\n",
       "      <th>2</th>\n",
       "      <td>Creamy Corn</td>\n",
       "      <td>To cook Creamy Corn, you need:2 (16 oz.) pkg. ...</td>\n",
       "    </tr>\n",
       "    <tr>\n",
       "      <th>3</th>\n",
       "      <td>Chicken Funny</td>\n",
       "      <td>To cook Chicken Funny, you need:1 large whole ...</td>\n",
       "    </tr>\n",
       "    <tr>\n",
       "      <th>4</th>\n",
       "      <td>Reeses Cups(Candy)</td>\n",
       "      <td>To cook Reeses Cups(Candy)  , you need:1 c. pe...</td>\n",
       "    </tr>\n",
       "  </tbody>\n",
       "</table>\n",
       "</div>"
      ],
      "text/plain": [
       "            Recipe Title                                           Sentence\n",
       "0    No-Bake Nut Cookies  To cook No-Bake Nut Cookies, you need:1 c. fir...\n",
       "1  Jewell Ball'S Chicken  To cook Jewell Ball'S Chicken, you need:1 smal...\n",
       "2            Creamy Corn  To cook Creamy Corn, you need:2 (16 oz.) pkg. ...\n",
       "3          Chicken Funny  To cook Chicken Funny, you need:1 large whole ...\n",
       "4   Reeses Cups(Candy)    To cook Reeses Cups(Candy)  , you need:1 c. pe..."
      ]
     },
     "execution_count": 17,
     "metadata": {},
     "output_type": "execute_result"
    }
   ],
   "source": [
    "df.rename(columns={'title':'Recipe Title'}, inplace=True)\n",
    "df = df[['Recipe Title','Sentence']]\n",
    "\n",
    "df.head()"
   ]
  },
  {
   "cell_type": "code",
   "execution_count": 18,
   "metadata": {},
   "outputs": [],
   "source": [
    "df = df.sample(frac=1)"
   ]
  },
  {
   "cell_type": "code",
   "execution_count": 19,
   "metadata": {},
   "outputs": [],
   "source": [
    "df.reset_index(drop=True, inplace=True)"
   ]
  },
  {
   "cell_type": "code",
   "execution_count": 20,
   "metadata": {},
   "outputs": [],
   "source": [
    "for i in range(10):\n",
    "    df.iloc[i::10].to_csv(f'recipes_{i+1}.csv',index=False)"
   ]
  },
  {
   "cell_type": "code",
   "execution_count": null,
   "metadata": {},
   "outputs": [],
   "source": []
  },
  {
   "cell_type": "code",
   "execution_count": null,
   "metadata": {},
   "outputs": [],
   "source": []
  },
  {
   "cell_type": "code",
   "execution_count": 5,
   "metadata": {},
   "outputs": [],
   "source": [
    "df.to_csv('recipes.csv',index=False)"
   ]
  },
  {
   "cell_type": "code",
   "execution_count": null,
   "metadata": {},
   "outputs": [],
   "source": []
  },
  {
   "cell_type": "code",
   "execution_count": null,
   "metadata": {},
   "outputs": [],
   "source": []
  },
  {
   "cell_type": "code",
   "execution_count": 4,
   "metadata": {},
   "outputs": [
    {
     "name": "stderr",
     "output_type": "stream",
     "text": [
      "/var/folders/r1/74s8bhy11bz94lsfxrg5752m0000gn/T/ipykernel_87901/1207147349.py:1: DtypeWarning: Columns (13) have mixed types. Specify dtype option on import or set low_memory=False.\n",
      "  df_prod =pd.read_csv(\"Data/Production/Production_Crops_Livestock_E_All_Data_(Normalized).csv\")\n"
     ]
    }
   ],
   "source": [
    "df_prod =pd.read_csv(\"Data/Production/Production_Crops_Livestock_E_All_Data_(Normalized).csv\")"
   ]
  },
  {
   "cell_type": "code",
   "execution_count": 5,
   "metadata": {},
   "outputs": [
    {
     "data": {
      "text/html": [
       "<div>\n",
       "<style scoped>\n",
       "    .dataframe tbody tr th:only-of-type {\n",
       "        vertical-align: middle;\n",
       "    }\n",
       "\n",
       "    .dataframe tbody tr th {\n",
       "        vertical-align: top;\n",
       "    }\n",
       "\n",
       "    .dataframe thead th {\n",
       "        text-align: right;\n",
       "    }\n",
       "</style>\n",
       "<table border=\"1\" class=\"dataframe\">\n",
       "  <thead>\n",
       "    <tr style=\"text-align: right;\">\n",
       "      <th></th>\n",
       "      <th>Area Code</th>\n",
       "      <th>Area Code (M49)</th>\n",
       "      <th>Area</th>\n",
       "      <th>Item Code</th>\n",
       "      <th>Item Code (CPC)</th>\n",
       "      <th>Item</th>\n",
       "      <th>Element Code</th>\n",
       "      <th>Element</th>\n",
       "      <th>Year Code</th>\n",
       "      <th>Year</th>\n",
       "      <th>Unit</th>\n",
       "      <th>Value</th>\n",
       "      <th>Flag</th>\n",
       "      <th>Note</th>\n",
       "    </tr>\n",
       "  </thead>\n",
       "  <tbody>\n",
       "    <tr>\n",
       "      <th>0</th>\n",
       "      <td>2</td>\n",
       "      <td>'004</td>\n",
       "      <td>Afghanistan</td>\n",
       "      <td>221</td>\n",
       "      <td>'01371</td>\n",
       "      <td>Almonds, in shell</td>\n",
       "      <td>5312</td>\n",
       "      <td>Area harvested</td>\n",
       "      <td>1961</td>\n",
       "      <td>1961</td>\n",
       "      <td>ha</td>\n",
       "      <td>0.0</td>\n",
       "      <td>A</td>\n",
       "      <td>NaN</td>\n",
       "    </tr>\n",
       "    <tr>\n",
       "      <th>1</th>\n",
       "      <td>2</td>\n",
       "      <td>'004</td>\n",
       "      <td>Afghanistan</td>\n",
       "      <td>221</td>\n",
       "      <td>'01371</td>\n",
       "      <td>Almonds, in shell</td>\n",
       "      <td>5312</td>\n",
       "      <td>Area harvested</td>\n",
       "      <td>1962</td>\n",
       "      <td>1962</td>\n",
       "      <td>ha</td>\n",
       "      <td>0.0</td>\n",
       "      <td>A</td>\n",
       "      <td>NaN</td>\n",
       "    </tr>\n",
       "    <tr>\n",
       "      <th>2</th>\n",
       "      <td>2</td>\n",
       "      <td>'004</td>\n",
       "      <td>Afghanistan</td>\n",
       "      <td>221</td>\n",
       "      <td>'01371</td>\n",
       "      <td>Almonds, in shell</td>\n",
       "      <td>5312</td>\n",
       "      <td>Area harvested</td>\n",
       "      <td>1963</td>\n",
       "      <td>1963</td>\n",
       "      <td>ha</td>\n",
       "      <td>0.0</td>\n",
       "      <td>A</td>\n",
       "      <td>NaN</td>\n",
       "    </tr>\n",
       "    <tr>\n",
       "      <th>3</th>\n",
       "      <td>2</td>\n",
       "      <td>'004</td>\n",
       "      <td>Afghanistan</td>\n",
       "      <td>221</td>\n",
       "      <td>'01371</td>\n",
       "      <td>Almonds, in shell</td>\n",
       "      <td>5312</td>\n",
       "      <td>Area harvested</td>\n",
       "      <td>1964</td>\n",
       "      <td>1964</td>\n",
       "      <td>ha</td>\n",
       "      <td>0.0</td>\n",
       "      <td>A</td>\n",
       "      <td>NaN</td>\n",
       "    </tr>\n",
       "    <tr>\n",
       "      <th>4</th>\n",
       "      <td>2</td>\n",
       "      <td>'004</td>\n",
       "      <td>Afghanistan</td>\n",
       "      <td>221</td>\n",
       "      <td>'01371</td>\n",
       "      <td>Almonds, in shell</td>\n",
       "      <td>5312</td>\n",
       "      <td>Area harvested</td>\n",
       "      <td>1965</td>\n",
       "      <td>1965</td>\n",
       "      <td>ha</td>\n",
       "      <td>0.0</td>\n",
       "      <td>A</td>\n",
       "      <td>NaN</td>\n",
       "    </tr>\n",
       "  </tbody>\n",
       "</table>\n",
       "</div>"
      ],
      "text/plain": [
       "   Area Code Area Code (M49)         Area  Item Code Item Code (CPC)  \\\n",
       "0          2            '004  Afghanistan        221          '01371   \n",
       "1          2            '004  Afghanistan        221          '01371   \n",
       "2          2            '004  Afghanistan        221          '01371   \n",
       "3          2            '004  Afghanistan        221          '01371   \n",
       "4          2            '004  Afghanistan        221          '01371   \n",
       "\n",
       "                Item  Element Code         Element  Year Code  Year Unit  \\\n",
       "0  Almonds, in shell          5312  Area harvested       1961  1961   ha   \n",
       "1  Almonds, in shell          5312  Area harvested       1962  1962   ha   \n",
       "2  Almonds, in shell          5312  Area harvested       1963  1963   ha   \n",
       "3  Almonds, in shell          5312  Area harvested       1964  1964   ha   \n",
       "4  Almonds, in shell          5312  Area harvested       1965  1965   ha   \n",
       "\n",
       "   Value Flag Note  \n",
       "0    0.0    A  NaN  \n",
       "1    0.0    A  NaN  \n",
       "2    0.0    A  NaN  \n",
       "3    0.0    A  NaN  \n",
       "4    0.0    A  NaN  "
      ]
     },
     "execution_count": 5,
     "metadata": {},
     "output_type": "execute_result"
    }
   ],
   "source": [
    "df_prod.head()"
   ]
  },
  {
   "cell_type": "code",
   "execution_count": 20,
   "metadata": {},
   "outputs": [
    {
     "name": "stderr",
     "output_type": "stream",
     "text": [
      "/var/folders/r1/74s8bhy11bz94lsfxrg5752m0000gn/T/ipykernel_87901/3238290160.py:1: DtypeWarning: Columns (13) have mixed types. Specify dtype option on import or set low_memory=False.\n",
      "  df_prod =pd.read_csv(\"Data/Production/Production_Crops_Livestock_E_All_Data_(Normalized).csv\")\n"
     ]
    },
    {
     "name": "stdout",
     "output_type": "stream",
     "text": [
      "(4124611, 14)\n"
     ]
    }
   ],
   "source": [
    "df_prod =pd.read_csv(\"Data/Production/Production_Crops_Livestock_E_All_Data_(Normalized).csv\")\n",
    "print(df_prod.shape)\n",
    "\n",
    "def group_function(x):\n",
    "    return pd.Series({'Max Year Code': np.max(x['Year Code'])})\n",
    "\n",
    "group_features = ['Area Code', 'Item Code','Element Code']\n",
    "\n",
    "grouped_df = df_prod[group_features+['Year Code']].groupby(by = group_features).apply(group_function).reset_index()\n",
    "df_prod = df_prod.merge(grouped_df, on = group_features, how= 'outer')\n",
    "df_prod = df_prod[df_prod['Year Code']==df_prod['Max Year Code']]\n",
    "df_prod = df_prod[df_prod['Element'].isin(['Production'])]\n",
    "columns_to_keep = ['Area','Item', 'Unit','Value']\n",
    "df_prod = df_prod[columns_to_keep]\n",
    "df_prod.loc[:,'Sentence'] = 'The production of '+df_prod.loc[:,'Item']+' in '+df_prod.loc[:,'Area']+' is '+df_prod.loc[:,'Value'].astype(str)+' '+df_prod.loc[:,'Unit'] + ' per year'\n"
   ]
  },
  {
   "cell_type": "code",
   "execution_count": 21,
   "metadata": {},
   "outputs": [],
   "source": [
    "df_prod.to_csv('production_norm_filtered.csv', index=False)"
   ]
  },
  {
   "cell_type": "code",
   "execution_count": 23,
   "metadata": {},
   "outputs": [
    {
     "data": {
      "text/plain": [
       "array(['Afghanistan', 'Albania', 'Algeria', 'Angola',\n",
       "       'Antigua and Barbuda', 'Argentina', 'Armenia', 'Australia',\n",
       "       'Austria', 'Azerbaijan', 'Bahamas', 'Bahrain', 'Bangladesh',\n",
       "       'Barbados', 'Belarus', 'Belgium', 'Belgium-Luxembourg', 'Belize',\n",
       "       'Benin', 'Bhutan', 'Bolivia (Plurinational State of)',\n",
       "       'Bosnia and Herzegovina', 'Botswana', 'Brazil',\n",
       "       'Brunei Darussalam', 'Bulgaria', 'Burkina Faso', 'Burundi',\n",
       "       'Cabo Verde', 'Cambodia', 'Cameroon', 'Canada',\n",
       "       'Central African Republic', 'Chad', 'Chile', 'China',\n",
       "       'China, Hong Kong SAR', 'China, Macao SAR', 'China, mainland',\n",
       "       'China, Taiwan Province of', 'Colombia', 'Comoros', 'Congo',\n",
       "       'Cook Islands', 'Costa Rica', \"Côte d'Ivoire\", 'Croatia', 'Cuba',\n",
       "       'Cyprus', 'Czechia', 'Czechoslovakia',\n",
       "       \"Democratic People's Republic of Korea\",\n",
       "       'Democratic Republic of the Congo', 'Denmark', 'Djibouti',\n",
       "       'Dominica', 'Dominican Republic', 'Ecuador', 'Egypt',\n",
       "       'El Salvador', 'Equatorial Guinea', 'Eritrea', 'Estonia',\n",
       "       'Eswatini', 'Ethiopia', 'Ethiopia PDR', 'Faroe Islands', 'Fiji',\n",
       "       'Finland', 'France', 'French Guiana', 'French Polynesia', 'Gabon',\n",
       "       'Gambia', 'Georgia', 'Germany', 'Ghana', 'Greece', 'Grenada',\n",
       "       'Guadeloupe', 'Guatemala', 'Guinea', 'Guinea-Bissau', 'Guyana',\n",
       "       'Haiti', 'Honduras', 'Hungary', 'Iceland', 'India', 'Indonesia',\n",
       "       'Iran (Islamic Republic of)', 'Iraq', 'Ireland', 'Israel', 'Italy',\n",
       "       'Jamaica', 'Japan', 'Jordan', 'Kazakhstan', 'Kenya', 'Kiribati',\n",
       "       'Kuwait', 'Kyrgyzstan', \"Lao People's Democratic Republic\",\n",
       "       'Latvia', 'Lebanon', 'Lesotho', 'Liberia', 'Libya', 'Lithuania',\n",
       "       'Luxembourg', 'Madagascar', 'Malawi', 'Malaysia', 'Maldives',\n",
       "       'Mali', 'Malta', 'Marshall Islands', 'Martinique', 'Mauritania',\n",
       "       'Mauritius', 'Mexico', 'Micronesia (Federated States of)',\n",
       "       'Mongolia', 'Montenegro', 'Morocco', 'Mozambique', 'Myanmar',\n",
       "       'Namibia', 'Nauru', 'Nepal', 'Netherlands (Kingdom of the)',\n",
       "       'New Caledonia', 'New Zealand', 'Nicaragua', 'Niger', 'Nigeria',\n",
       "       'Niue', 'North Macedonia', 'Norway', 'Oman', 'Pakistan',\n",
       "       'Palestine', 'Panama', 'Papua New Guinea', 'Paraguay', 'Peru',\n",
       "       'Philippines', 'Poland', 'Portugal', 'Puerto Rico', 'Qatar',\n",
       "       'Republic of Korea', 'Republic of Moldova', 'Réunion', 'Romania',\n",
       "       'Russian Federation', 'Rwanda', 'Saint Kitts and Nevis',\n",
       "       'Saint Lucia', 'Saint Vincent and the Grenadines', 'Samoa',\n",
       "       'Sao Tome and Principe', 'Saudi Arabia', 'Senegal', 'Serbia',\n",
       "       'Serbia and Montenegro', 'Seychelles', 'Sierra Leone', 'Singapore',\n",
       "       'Slovakia', 'Slovenia', 'Solomon Islands', 'Somalia',\n",
       "       'South Africa', 'South Sudan', 'Spain', 'Sri Lanka', 'Sudan',\n",
       "       'Sudan (former)', 'Suriname', 'Sweden', 'Switzerland',\n",
       "       'Syrian Arab Republic', 'Tajikistan', 'Thailand', 'Timor-Leste',\n",
       "       'Togo', 'Tokelau', 'Tonga', 'Trinidad and Tobago', 'Tunisia',\n",
       "       'Türkiye', 'Turkmenistan', 'Tuvalu', 'Uganda', 'Ukraine',\n",
       "       'United Arab Emirates',\n",
       "       'United Kingdom of Great Britain and Northern Ireland',\n",
       "       'United Republic of Tanzania', 'United States of America',\n",
       "       'Uruguay', 'USSR', 'Uzbekistan', 'Vanuatu',\n",
       "       'Venezuela (Bolivarian Republic of)', 'Viet Nam', 'Yemen',\n",
       "       'Yugoslav SFR', 'Zambia', 'Zimbabwe', 'World', 'Africa',\n",
       "       'Eastern Africa', 'Middle Africa', 'Northern Africa',\n",
       "       'Southern Africa', 'Western Africa', 'Americas',\n",
       "       'Northern America', 'Central America', 'Caribbean',\n",
       "       'South America', 'Asia', 'Central Asia', 'Eastern Asia',\n",
       "       'Southern Asia', 'South-eastern Asia', 'Western Asia', 'Europe',\n",
       "       'Eastern Europe', 'Northern Europe', 'Southern Europe',\n",
       "       'Western Europe', 'Oceania', 'Australia and New Zealand',\n",
       "       'Melanesia', 'Micronesia', 'Polynesia', 'European Union (27)',\n",
       "       'Least Developed Countries', 'Land Locked Developing Countries',\n",
       "       'Small Island Developing States',\n",
       "       'Low Income Food Deficit Countries',\n",
       "       'Net Food Importing Developing Countries'], dtype=object)"
      ]
     },
     "execution_count": 23,
     "metadata": {},
     "output_type": "execute_result"
    }
   ],
   "source": [
    "df_prod.Area.unique()"
   ]
  },
  {
   "cell_type": "code",
   "execution_count": 9,
   "metadata": {},
   "outputs": [
    {
     "data": {
      "text/plain": [
       "array(['Area harvested', 'Yield', 'Production', 'Stocks',\n",
       "       'Producing Animals/Slaughtered', 'Laying', 'Yield/Carcass Weight',\n",
       "       'Milk Animals'], dtype=object)"
      ]
     },
     "execution_count": 9,
     "metadata": {},
     "output_type": "execute_result"
    }
   ],
   "source": [
    "df_prod.Element.unique()"
   ]
  },
  {
   "cell_type": "code",
   "execution_count": null,
   "metadata": {},
   "outputs": [],
   "source": [
    "'Production','Producing Animals/Slaughtered'\n",
    "       "
   ]
  },
  {
   "cell_type": "code",
   "execution_count": 5,
   "metadata": {},
   "outputs": [
    {
     "name": "stderr",
     "output_type": "stream",
     "text": [
      "/var/folders/r1/74s8bhy11bz94lsfxrg5752m0000gn/T/ipykernel_16470/817154024.py:1: DtypeWarning: Columns (16,22,40,46,52,58,70,82,88,94,97,100,103,109,115,118,121,124,127,130,133,136,139,143,145) have mixed types. Specify dtype option on import or set low_memory=False.\n",
      "  fs_df = pd.read_csv('Data/FS/Food_Security_Data_E_All_Data/Food_Security_Data_E_All_Data.csv',encoding='latin-1')\n"
     ]
    }
   ],
   "source": [
    "\n",
    "fs_df = pd.read_csv('Data/FS/Food_Security_Data_E_All_Data/Food_Security_Data_E_All_Data.csv',encoding='latin-1')\n",
    "\n"
   ]
  },
  {
   "cell_type": "code",
   "execution_count": 35,
   "metadata": {},
   "outputs": [],
   "source": [
    "fs_norm_df = pd.read_csv('Data/FS/Food_Security_Data_E_All_Data_(Normalized)/Food_Security_Data_E_All_Data_(Normalized).csv',encoding='latin-1')\n",
    "\n",
    "def group_function(x):\n",
    "    return pd.Series({'Max Year Code': np.max(x['Year Code'])})\n",
    "\n",
    "group_features = ['Area Code', 'Item Code','Element Code']\n",
    "\n",
    "grouped_df = fs_norm_df[group_features+['Year Code']].groupby(by = group_features).apply(group_function).reset_index()\n",
    "\n",
    "fs_norm_df = fs_norm_df.merge(grouped_df, on = group_features, how= 'outer')\n",
    "fs_norm_df_filtered = fs_norm_df[fs_norm_df['Year Code']==fs_norm_df['Max Year Code']]\n",
    "\n",
    "excluded_items = [ 'severely food insecure female adults (million) (3-year average)',\n",
    " 'severely food insecure female adults (million) (annual value)',\n",
    " 'severely food insecure male adults (million) (3-year average)',\n",
    " 'severely food insecure male adults (million) (annual value)',\n",
    " 'severely food insecure people (million) (3-year average)',\n",
    " 'severely food insecure people (million) (annual value)','Number of children under 5 years affected by wasting (million)',\n",
    " 'Number of children under 5 years of age who are overweight (modeled estimates) (million)',\n",
    " 'Number of children under 5 years of age who are stunted (modeled estimates) (million)',\n",
    "  'Number of severely food insecure female adults (million) (3-year average)',\n",
    " 'Number of severely food insecure female adults (million) (annual value)',\n",
    " 'Number of severely food insecure male adults (million) (3-year average)',\n",
    " 'Number of severely food insecure male adults (million) (annual value)',\n",
    " 'Number of severely food insecure people (million) (3-year average)',\n",
    " 'Number of severely food insecure people (million) (annual value)',\n",
    "  'Number of moderately or severely food insecure female adults (million) (3-year average)',\n",
    " 'Number of moderately or severely food insecure female adults (million) (annual value)',\n",
    " 'Number of moderately or severely food insecure male adults (million) (3-year average)',\n",
    " 'Number of moderately or severely food insecure male adults (million) (annual value)',\n",
    " 'Number of moderately or severely food insecure people (million) (3-year average)',\n",
    " 'Number of moderately or severely food insecure people (million) (annual value)',\n",
    " 'Number of newborns with low birthweight (million)',\n",
    " 'Number of people undernourished (million) (3-year average)',\n",
    " 'Prevalence of moderate or severe food insecurity in the rural adult population (percent) (annual value)',\n",
    " 'Prevalence of moderate or severe food insecurity in the total population (percent) (3-year average)',\n",
    " 'Prevalence of moderate or severe food insecurity in the total population (percent) (annual value)',\n",
    " 'Prevalence of moderate or severe food insecurity in the total population (percent) (3-year average)',\n",
    " 'Prevalence of moderate or severe food insecurity in the total population (percent) (annual value)',\n",
    " 'Prevalence of moderate or severe food insecurity in the town and semi-dense area adult population (percent) (annual value)',\n",
    " 'Prevalence of moderate or severe food insecurity in the urban adult population (percent) (annual value)',\n",
    "  'Prevalence of severe food insecurity in the rural adult population (percent) (annual value)',\n",
    " 'Prevalence of severe food insecurity in the total population (percent) (3-year average)',\n",
    " 'Prevalence of severe food insecurity in the total population (percent) (annual value)',\n",
    " 'Number of women of reproductive age (15-49 years) affected by anemia (million)',\n",
    "  'Prevalence of severe food insecurity in the total population (percent) (3-year average)',\n",
    " 'Prevalence of severe food insecurity in the total population (percent) (annual value)',\n",
    " 'Prevalence of severe food insecurity in the town and semi-dense area adult population (percent) (annual value)',\n",
    " 'Prevalence of severe food insecurity in the urban adult population (percent) (annual value)',]\n",
    "fs_norm_df_filtered = fs_norm_df_filtered[~fs_norm_df_filtered.Item.isin(excluded_items)]\n",
    "\n"
   ]
  },
  {
   "cell_type": "code",
   "execution_count": 36,
   "metadata": {},
   "outputs": [],
   "source": [
    "columns_to_keep = ['Area', 'Item' , 'Unit', 'Value']\n",
    "fs_norm_df_filtered = fs_norm_df_filtered[columns_to_keep]\n",
    "\n",
    "fs_norm_df_filtered.loc[:,'Sentence'] = 'In ' + fs_norm_df_filtered.loc[:,'Area'] + ' the ' + fs_norm_df_filtered.loc[:,'Item'] + ' is ' + fs_norm_df_filtered.loc[:,'Value'].astype(str) + ' ' + fs_norm_df_filtered.loc[:,'Unit']"
   ]
  },
  {
   "cell_type": "code",
   "execution_count": 37,
   "metadata": {},
   "outputs": [],
   "source": [
    "fs_norm_df_filtered.to_csv('fs_norm_filtered.csv')"
   ]
  },
  {
   "cell_type": "code",
   "execution_count": null,
   "metadata": {},
   "outputs": [],
   "source": []
  },
  {
   "cell_type": "code",
   "execution_count": 9,
   "metadata": {},
   "outputs": [
    {
     "name": "stderr",
     "output_type": "stream",
     "text": [
      "/var/folders/r1/74s8bhy11bz94lsfxrg5752m0000gn/T/ipykernel_16470/1913191083.py:9: DeprecationWarning: DataFrameGroupBy.apply operated on the grouping columns. This behavior is deprecated, and in a future version of pandas the grouping columns will be excluded from the operation. Either pass `include_groups=False` to exclude the groupings or explicitly select the grouping columns after groupby to silence this warning.\n",
      "  grouped_df = hces_norm_df[group_features+['Year Code']].groupby(by = group_features).apply(group_function).reset_index()\n"
     ]
    }
   ],
   "source": [
    "hces_norm_df = pd.read_csv('Data/HCES/Household_Consumption_and_Expenditure_Surveys_Food_and_Diet_E_All_Data_(Normalized)/Household_Consumption_and_Expenditure_Surveys_Food_and_Diet_E_All_Data_(Normalized).csv',encoding='latin-1')\n",
    "\n",
    "hces_norm_df.loc[:,'Area'] = hces_norm_df.Survey.apply(lambda x: x.split(' - ')[0])\n",
    "hces_norm_df.loc[:,'Year Code'] = hces_norm_df.Survey.apply(lambda x: x.split(' - ')[-1])\n",
    "\n",
    "hces_norm_df.Survey.unique(),hces_norm_df.shape\n",
    "group_features = ['Area', 'Indicator Code']\n",
    "\n",
    "grouped_df = hces_norm_df[group_features+['Year Code']].groupby(by = group_features).apply(group_function).reset_index()\n",
    "grouped_df.to_csv('grouped_df')\n",
    "hces_norm_df = hces_norm_df.merge(grouped_df, on = group_features, how= 'outer')\n",
    "hces_norm_df_filtered = hces_norm_df[hces_norm_df['Year Code']==hces_norm_df['Max Year Code']]\n",
    "hces_norm_df_filtered = hces_norm_df_filtered[hces_norm_df_filtered['Geographic Level']=='National']\n",
    "hces_norm_df_filtered.to_csv('hces_norm_df_filtered.csv')"
   ]
  },
  {
   "cell_type": "code",
   "execution_count": 1,
   "metadata": {},
   "outputs": [
    {
     "ename": "NameError",
     "evalue": "name 'fs_df' is not defined",
     "output_type": "error",
     "traceback": [
      "\u001b[0;31m---------------------------------------------------------------------------\u001b[0m",
      "\u001b[0;31mNameError\u001b[0m                                 Traceback (most recent call last)",
      "Cell \u001b[0;32mIn[1], line 1\u001b[0m\n\u001b[0;32m----> 1\u001b[0m \u001b[43mfs_df\u001b[49m[fs_df\u001b[38;5;241m.\u001b[39mArea\u001b[38;5;241m.\u001b[39misin(hces_df\u001b[38;5;241m.\u001b[39mArea\u001b[38;5;241m.\u001b[39munique())]\u001b[38;5;241m.\u001b[39mArea\u001b[38;5;241m.\u001b[39munique()\n",
      "\u001b[0;31mNameError\u001b[0m: name 'fs_df' is not defined"
     ]
    }
   ],
   "source": [
    "fs_df[fs_df.Area.isin(hces_df.Area.unique())].Area.unique()"
   ]
  },
  {
   "cell_type": "code",
   "execution_count": null,
   "metadata": {},
   "outputs": [],
   "source": []
  }
 ],
 "metadata": {
  "kernelspec": {
   "display_name": "venv",
   "language": "python",
   "name": "python3"
  },
  "language_info": {
   "codemirror_mode": {
    "name": "ipython",
    "version": 3
   },
   "file_extension": ".py",
   "mimetype": "text/x-python",
   "name": "python",
   "nbconvert_exporter": "python",
   "pygments_lexer": "ipython3",
   "version": "3.12.6"
  }
 },
 "nbformat": 4,
 "nbformat_minor": 2
}
