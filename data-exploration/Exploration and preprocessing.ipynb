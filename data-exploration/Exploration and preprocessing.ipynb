{
 "cells": [
  {
   "cell_type": "markdown",
   "metadata": {},
   "source": [
    "This notebook contained some exploratory analysis and some filtering that was applied to the csv files used as Documents of our RAG."
   ]
  },
  {
   "cell_type": "code",
   "execution_count": 1,
   "metadata": {},
   "outputs": [],
   "source": [
    "import pandas as pd\n",
    "import numpy as np"
   ]
  },
  {
   "cell_type": "markdown",
   "metadata": {},
   "source": [
    "# Recipes\n",
    "\n",
    "## Data set \n",
    "\n",
    "* [https://www.kaggle.com/datasets/wilmerarltstrmberg/recipe-dataset-over-2m](https://www.kaggle.com/datasets/wilmerarltstrmberg/recipe-dataset-over-2m)\n",
    "\n",
    "## Tasks performed:\n",
    "\n",
    "* Reduce the number of recipecies to a managable number.\n",
    "* filter non-essential columns,\n",
    "* Formulate a sentence following the format: \n",
    "```\n",
    "f'To cook {recipe_title}, you need: {ingredients}.'\n",
    "```"
   ]
  },
  {
   "cell_type": "code",
   "execution_count": null,
   "metadata": {},
   "outputs": [],
   "source": [
    "# read specific columns of csv file using Pandas\n",
    "df = pd.read_csv(\"Data/Recipes/recipes_data.csv\", usecols=['title', 'ingredients'])\n",
    "df.loc[:,'Sentence'] = ('To cook ' + df.loc[:,'title'] \n",
    "                        + ', you need:' + df.loc[:,'ingredients'].astype(str).str.replace('[','').str.replace(']','').str.replace('\"','').str.replace('[\"',''))\n",
    "\n",
    "df.rename(columns={'title':'Recipe Title'}, inplace=True)\n",
    "df = df[['Recipe Title','Sentence']]\n",
    "df = df.sample(frac=1)\n",
    "df.reset_index(drop=True, inplace=True)\n",
    "df.iloc[0::10].to_csv(f'recipes_1.csv',index=False)"
   ]
  },
  {
   "cell_type": "markdown",
   "metadata": {},
   "source": [
    "# Agriculture Production by country\n",
    "\n",
    "## Data set:\n",
    "\n",
    "* https://www.fao.org/faostat/en/#data/QCL\n",
    "\n",
    "## Tasks performed:\n",
    "\n",
    "* Filter to keep only data from the last surveys,\n",
    "* Remove values expressed in millions when the same valmue is available as a percentage,\n",
    "* filter non-essential columns,\n",
    "* Formulate a sentence based on the remaining columns: \n",
    "```\n",
    "f'The production of {Item} in {Area} is {Value} {Unit} per year'\n",
    "```"
   ]
  },
  {
   "cell_type": "code",
   "execution_count": null,
   "metadata": {},
   "outputs": [
    {
     "name": "stderr",
     "output_type": "stream",
     "text": [
      "/var/folders/r1/74s8bhy11bz94lsfxrg5752m0000gn/T/ipykernel_87901/3238290160.py:1: DtypeWarning: Columns (13) have mixed types. Specify dtype option on import or set low_memory=False.\n",
      "  df_prod =pd.read_csv(\"Data/Production/Production_Crops_Livestock_E_All_Data_(Normalized).csv\")\n"
     ]
    },
    {
     "name": "stdout",
     "output_type": "stream",
     "text": [
      "(4124611, 14)\n"
     ]
    }
   ],
   "source": [
    "df_prod =pd.read_csv(\"Data/Production/Production_Crops_Livestock_E_All_Data_(Normalized).csv\")\n",
    "print(df_prod.shape)\n",
    "\n",
    "def group_function(x):\n",
    "    return pd.Series({'Max Year Code': np.max(x['Year Code'])})\n",
    "\n",
    "group_features = ['Area Code', 'Item Code','Element Code']\n",
    "\n",
    "grouped_df = df_prod[group_features+['Year Code']].groupby(by = group_features).apply(group_function).reset_index()\n",
    "df_prod = df_prod.merge(grouped_df, on = group_features, how= 'outer')\n",
    "df_prod = df_prod[df_prod['Year Code']==df_prod['Max Year Code']]\n",
    "df_prod = df_prod[df_prod['Element'].isin(['Production'])]\n",
    "columns_to_keep = ['Area','Item', 'Unit','Value']\n",
    "df_prod = df_prod[columns_to_keep]\n",
    "df_prod.loc[:,'Sentence'] = ('The production of '\n",
    "                             +df_prod.loc[:,'Item']+' in '+df_prod.loc[:,'Area']\n",
    "                             +' is '+df_prod.loc[:,'Value'].astype(str)\n",
    "                             +' '+df_prod.loc[:,'Unit'] + ' per year')\n",
    "df_prod.to_csv('production_norm_filtered.csv', index=False)"
   ]
  },
  {
   "cell_type": "markdown",
   "metadata": {},
   "source": [
    "# Food and Security Data\n",
    "\n",
    "## Data set:\n",
    "\n",
    "* https://www.fao.org/faostat/en/#data/FS\n",
    "\n",
    "## Tasks performed:\n",
    "\n",
    "* Filter to keep only data from the last surveys,\n",
    "* Remove values expressed in millions when the same valmue is available as a percentage,\n",
    "* filter non-essential columns,\n",
    "* Formulate a sentence based on the remaining columns: \n",
    "```\n",
    "f'In {Area} the {Item} is {Value} {Unit}.'\n",
    "```"
   ]
  },
  {
   "cell_type": "code",
   "execution_count": null,
   "metadata": {},
   "outputs": [
    {
     "name": "stderr",
     "output_type": "stream",
     "text": [
      "/var/folders/r1/74s8bhy11bz94lsfxrg5752m0000gn/T/ipykernel_16470/817154024.py:1: DtypeWarning: Columns (16,22,40,46,52,58,70,82,88,94,97,100,103,109,115,118,121,124,127,130,133,136,139,143,145) have mixed types. Specify dtype option on import or set low_memory=False.\n",
      "  fs_df = pd.read_csv('Data/FS/Food_Security_Data_E_All_Data/Food_Security_Data_E_All_Data.csv',encoding='latin-1')\n"
     ]
    }
   ],
   "source": [
    "\n",
    "fs_norm_df = pd.read_csv('Data/FS/Food_Security_Data_E_All_Data_(Normalized)/Food_Security_Data_E_All_Data_(Normalized).csv',encoding='latin-1')\n",
    "\n",
    "def group_function(x):\n",
    "    return pd.Series({'Max Year Code': np.max(x['Year Code'])})\n",
    "\n",
    "group_features = ['Area Code', 'Item Code','Element Code']\n",
    "\n",
    "grouped_df = fs_norm_df[group_features+['Year Code']].groupby(by = group_features).apply(group_function).reset_index()\n",
    "\n",
    "fs_norm_df = fs_norm_df.merge(grouped_df, on = group_features, how= 'outer')\n",
    "fs_norm_df_filtered = fs_norm_df[fs_norm_df['Year Code']==fs_norm_df['Max Year Code']]\n",
    "\n",
    "excluded_items = [ 'severely food insecure female adults (million) (3-year average)',\n",
    " 'severely food insecure female adults (million) (annual value)',\n",
    " 'severely food insecure male adults (million) (3-year average)',\n",
    " 'severely food insecure male adults (million) (annual value)',\n",
    " 'severely food insecure people (million) (3-year average)',\n",
    " 'severely food insecure people (million) (annual value)','Number of children under 5 years affected by wasting (million)',\n",
    " 'Number of children under 5 years of age who are overweight (modeled estimates) (million)',\n",
    " 'Number of children under 5 years of age who are stunted (modeled estimates) (million)',\n",
    "  'Number of severely food insecure female adults (million) (3-year average)',\n",
    " 'Number of severely food insecure female adults (million) (annual value)',\n",
    " 'Number of severely food insecure male adults (million) (3-year average)',\n",
    " 'Number of severely food insecure male adults (million) (annual value)',\n",
    " 'Number of severely food insecure people (million) (3-year average)',\n",
    " 'Number of severely food insecure people (million) (annual value)',\n",
    "  'Number of moderately or severely food insecure female adults (million) (3-year average)',\n",
    " 'Number of moderately or severely food insecure female adults (million) (annual value)',\n",
    " 'Number of moderately or severely food insecure male adults (million) (3-year average)',\n",
    " 'Number of moderately or severely food insecure male adults (million) (annual value)',\n",
    " 'Number of moderately or severely food insecure people (million) (3-year average)',\n",
    " 'Number of moderately or severely food insecure people (million) (annual value)',\n",
    " 'Number of newborns with low birthweight (million)',\n",
    " 'Number of people undernourished (million) (3-year average)',\n",
    " 'Prevalence of moderate or severe food insecurity in the rural adult population (percent) (annual value)',\n",
    " 'Prevalence of moderate or severe food insecurity in the total population (percent) (3-year average)',\n",
    " 'Prevalence of moderate or severe food insecurity in the total population (percent) (annual value)',\n",
    " 'Prevalence of moderate or severe food insecurity in the total population (percent) (3-year average)',\n",
    " 'Prevalence of moderate or severe food insecurity in the total population (percent) (annual value)',\n",
    " 'Prevalence of moderate or severe food insecurity in the town and semi-dense area adult population (percent) (annual value)',\n",
    " 'Prevalence of moderate or severe food insecurity in the urban adult population (percent) (annual value)',\n",
    "  'Prevalence of severe food insecurity in the rural adult population (percent) (annual value)',\n",
    " 'Prevalence of severe food insecurity in the total population (percent) (3-year average)',\n",
    " 'Prevalence of severe food insecurity in the total population (percent) (annual value)',\n",
    " 'Number of women of reproductive age (15-49 years) affected by anemia (million)',\n",
    "  'Prevalence of severe food insecurity in the total population (percent) (3-year average)',\n",
    " 'Prevalence of severe food insecurity in the total population (percent) (annual value)',\n",
    " 'Prevalence of severe food insecurity in the town and semi-dense area adult population (percent) (annual value)',\n",
    " 'Prevalence of severe food insecurity in the urban adult population (percent) (annual value)',]\n",
    "fs_norm_df_filtered = fs_norm_df_filtered[~fs_norm_df_filtered.Item.isin(excluded_items)]\n",
    "\n",
    "columns_to_keep = ['Area', 'Item' , 'Unit', 'Value']\n",
    "fs_norm_df_filtered = fs_norm_df_filtered[columns_to_keep]\n",
    "\n",
    "fs_norm_df_filtered.loc[:,'Sentence'] = ('In ' + fs_norm_df_filtered.loc[:,'Area'] \n",
    "                                         + ' the ' + fs_norm_df_filtered.loc[:,'Item'] \n",
    "                                         + ' is ' + fs_norm_df_filtered.loc[:,'Value'].astype(str) \n",
    "                                         + ' ' + fs_norm_df_filtered.loc[:,'Unit'])\n",
    "\n",
    "fs_norm_df_filtered.to_csv('fs_norm_filtered.csv')"
   ]
  }
 ],
 "metadata": {
  "kernelspec": {
   "display_name": "venv",
   "language": "python",
   "name": "python3"
  },
  "language_info": {
   "codemirror_mode": {
    "name": "ipython",
    "version": 3
   },
   "file_extension": ".py",
   "mimetype": "text/x-python",
   "name": "python",
   "nbconvert_exporter": "python",
   "pygments_lexer": "ipython3",
   "version": "3.12.6"
  }
 },
 "nbformat": 4,
 "nbformat_minor": 2
}
